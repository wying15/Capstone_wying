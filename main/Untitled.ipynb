{
 "cells": [
  {
   "cell_type": "code",
   "execution_count": null,
   "id": "28daeb3e-23d9-4bef-b72b-d17631f61e9d",
   "metadata": {},
   "outputs": [],
   "source": [
    "# Capstone Project: Building an Interactive AI Rainbow on a Budget Chatbot"
   ]
  },
  {
   "cell_type": "code",
   "execution_count": null,
   "id": "c11d8b01-d2eb-4dbb-a127-e48135ff3ba3",
   "metadata": {},
   "outputs": [],
   "source": []
  }
 ],
 "metadata": {
  "kernelspec": {
   "display_name": "Python 3 (ipykernel)",
   "language": "python",
   "name": "python3"
  },
  "language_info": {
   "codemirror_mode": {
    "name": "ipython",
    "version": 3
   },
   "file_extension": ".py",
   "mimetype": "text/x-python",
   "name": "python",
   "nbconvert_exporter": "python",
   "pygments_lexer": "ipython3",
   "version": "3.11.7"
  }
 },
 "nbformat": 4,
 "nbformat_minor": 5
}
