{
 "cells": [
  {
   "cell_type": "markdown",
   "id": "b83a224c",
   "metadata": {},
   "source": [
    "# Capstone Project: Building an Interactive AI Rainbow on a Budget Chatbot"
   ]
  },
  {
   "cell_type": "markdown",
   "id": "883695d9",
   "metadata": {},
   "source": [
    "We perform the backend processing for the chatbot."
   ]
  },
  {
   "cell_type": "markdown",
   "id": "56ee5543",
   "metadata": {},
   "source": [
    "![Retrieval Augmented Generation(RAG)](https://miro.medium.com/v2/resize:fit:720/format:webp/1*UyhiO87T-hejRhqI7EwvgA.png)\n"
   ]
  },
  {
   "cell_type": "markdown",
   "id": "feb3061c",
   "metadata": {},
   "source": [
    "## Contents\n",
    "1. [Import libraries, API and set filepath](#Import-libraries,-API-and-set-filepath)\n",
    "2. [Load the data](#Load-the-data)\n",
    "3. [Build Index](#Build-Index)\n",
    "4. [Train Generation](#Train-Generation)\n",
    "5. [Eval Generation](#Eval-Generation)\n",
    "6. [Initial Evaluation](#Initial-Evaluation)\n",
    "7. [2nd Evaluation](#2nd-Evaluation)\n",
    "8. [Exploring Differences Between The 2 Different Models](#Exploring-Differences-Between-The-2-Different-Models)\n",
    "9. [Checking whether the GPT-3.5-turbo-1106 (Fine Tune) or GPT-4-1106-preview works better](#Checking-whether-the-GPT-3.5-turbo-1106-(Fine-Tune)-or-GPT-4-1106-preview-works-better)"
   ]
  },
  {
   "cell_type": "markdown",
   "id": "120ab08a",
   "metadata": {},
   "source": [
    "# AI Rainbow on a Budget Chatbot\n",
    "\n",
    "\n",
    "To study the manual scrap datasets \"products.csv\""
   ]
  },
  {
   "cell_type": "markdown",
   "id": "bcc96d46",
   "metadata": {},
   "source": [
    "## Import libraries, API and set filepath"
   ]
  },
  {
   "cell_type": "code",
   "execution_count": 3,
   "id": "9888248b",
   "metadata": {},
   "outputs": [],
   "source": [
    "import os\n",
    "\n",
    "from llama_index import Document, GPTVectorStoreIndex, ServiceContext\n",
    "from llama_index.readers import BeautifulSoupWebReader, SimpleDirectoryReader\n",
    "from llama_index.llms import OpenAI\n",
    "from llama_index.evaluation import DatasetGenerator\n",
    "\n",
    "import openai"
   ]
  },
  {
   "cell_type": "code",
   "execution_count": 5,
   "id": "cd1be0d0",
   "metadata": {},
   "outputs": [],
   "source": [
    "# set filepath to my data directory \n",
    "\n",
    "current_dir = os.getcwd()\n",
    "data_dir = os.path.join(current_dir, \"./data\")\n"
   ]
  },
  {
   "cell_type": "markdown",
   "id": "99211f6b",
   "metadata": {},
   "source": [
    "## Load the data"
   ]
  },
  {
   "cell_type": "code",
   "execution_count": 6,
   "id": "13e2d763",
   "metadata": {},
   "outputs": [],
   "source": [
    "from pathlib import Path \n",
    "from llama_index import download_loader\n",
    "\n",
    "PagedCSVReader = download_loader(\"PagedCSVReader\")\n",
    "\n",
    "loader = PagedCSVReader(encoding=\"utf-8\")\n",
    "docs = loader.load_data(file=Path('./data/products.csv')) \n",
    "\n",
    "#read and load the csv file into the model"
   ]
  },
  {
   "cell_type": "markdown",
   "id": "2ba98350",
   "metadata": {},
   "source": [
    "## Build Index\n",
    "\n",
    "With all the data loaded, we can construct the index for the chatbot. There are 4 types of indexing: Summary index, VectorStore Index, Tree Index and Keyword Table Index. Here we are using VectorStore Index, which is also one of the most common types of indexing."
   ]
  },
  {
   "cell_type": "code",
   "execution_count": 7,
   "id": "5884ea5d",
   "metadata": {
    "scrolled": true
   },
   "outputs": [],
   "source": [
    "import openai\n",
    "\n",
    "openai.api_key = os.getenv(\"OPENAI_API_KEY\")\n",
    "\n",
    "service_context = ServiceContext.from_defaults(\n",
    "    llm=OpenAI(model=\"gpt-4-turbo\", temperature=0) # degree of randomness from 0 to 1. \n",
    ")\n",
    "\n",
    "index = GPTVectorStoreIndex.from_documents(documents=docs, service_context=service_context)\n",
    "\n",
    "\n",
    "#method is used to create an index from a set of documents (docs)."
   ]
  },
  {
   "cell_type": "code",
   "execution_count": 8,
   "id": "7a86885e",
   "metadata": {},
   "outputs": [],
   "source": [
    "# saving the output as a vector store so that we can refer to this \n",
    "# instead of running the embedding model above again\n",
    "\n",
    "index.storage_context.persist(persist_dir=\"./data/index.vecstore\")  \n",
    "\n",
    "#the data is stored in that location, making it easier to load the index from storage later on without having to re-index the documents. \n"
   ]
  },
  {
   "cell_type": "markdown",
   "id": "99d7bea1",
   "metadata": {},
   "source": [
    "1. Generate a training and evaluation dataset using gpt-3.5-turbo\n",
    "2. Use gpt-4 on the evaluation questions to get our first model performance\n",
    "3. Generate another set of training dataset using GPT-3.5-turbo\n",
    "4. Use gpt-3.5-turbo-1106 on the evaluation question to get our second model performance\n",
    "5. Generate another set of training dataset using GPT-3.5-turbo\n",
    "6. Use gpt-4-1106-preview on the evaluation question to get our third model performance\n",
    "7. Explore the three different models and see whether are there any differences"
   ]
  },
  {
   "cell_type": "markdown",
   "id": "0c4f3a75",
   "metadata": {},
   "source": [
    "## Train Generation"
   ]
  },
  {
   "cell_type": "code",
   "execution_count": 9,
   "id": "b839c6bb",
   "metadata": {},
   "outputs": [],
   "source": [
    "# Shuffle the documents\n",
    "import random\n",
    "\n",
    "random.seed(42)\n",
    "random.shuffle(docs)\n",
    "\n",
    "gpt_context = ServiceContext.from_defaults(\n",
    "    llm=OpenAI(model=\"gpt-4-turbo\", temperature=0)\n",
    ")"
   ]
  },
  {
   "cell_type": "code",
   "execution_count": 1,
   "id": "009c3944",
   "metadata": {
    "scrolled": true
   },
   "outputs": [
    {
     "ename": "NameError",
     "evalue": "name 'DatasetGenerator' is not defined",
     "output_type": "error",
     "traceback": [
      "\u001b[1;31m---------------------------------------------------------------------------\u001b[0m",
      "\u001b[1;31mNameError\u001b[0m                                 Traceback (most recent call last)",
      "Cell \u001b[1;32mIn[1], line 7\u001b[0m\n\u001b[0;32m      1\u001b[0m question_gen_query\u001b[38;5;241m=\u001b[39m(\n\u001b[0;32m      2\u001b[0m     \u001b[38;5;124m\"\u001b[39m\u001b[38;5;124mCraft a series of questions that potential customers might ask about what other fruits and vegetables to add to their diet to achieve the optimal nutrition. The 5-colour diet includes fruits and vegetables from the red, yellow/orange, white/tan/brown, green, blue/purple/black colour categories. The data file includes fruits and vegetables from these 5 colours as columns. Check what vegetables and fruits colour their cart already has and then suggest fruits and vegetables of colours that are missing from their cart by checking for the best match with the row of data in the redProductName, yellowProductName, whiteProductName, greenProductName, blueProductName fields. Once that is done, suggest the respective recipe under the recipes column.\u001b[39m\u001b[38;5;124m\"\u001b[39m\n\u001b[0;32m      3\u001b[0m )\n\u001b[0;32m      4\u001b[0m \u001b[38;5;66;03m# find out more about question generation from \u001b[39;00m\n\u001b[0;32m      5\u001b[0m \u001b[38;5;66;03m# https://gpt-index.readthedocs.io/en/latest/examples/evaluation/QuestionGeneration.html\u001b[39;00m\n\u001b[1;32m----> 7\u001b[0m dataset_generator \u001b[38;5;241m=\u001b[39m DatasetGenerator\u001b[38;5;241m.\u001b[39mfrom_documents(\n\u001b[0;32m      8\u001b[0m     docs[:\u001b[38;5;241m24\u001b[39m],\n\u001b[0;32m      9\u001b[0m     question_gen_query\u001b[38;5;241m=\u001b[39mquestion_gen_query,\n\u001b[0;32m     10\u001b[0m     service_context\u001b[38;5;241m=\u001b[39mgpt_context,\n\u001b[0;32m     11\u001b[0m )\n",
      "\u001b[1;31mNameError\u001b[0m: name 'DatasetGenerator' is not defined"
     ]
    }
   ],
   "source": [
    "question_gen_query=(\n",
    "    \"Craft a series of questions that potential customers might ask about what other fruits and vegetables to add to their diet to achieve the optimal nutrition. The 5-colour diet includes fruits and vegetables from the red, yellow/orange, white/tan/brown, green, blue/purple/black colour categories. The data file includes fruits and vegetables from these 5 colours as columns. Check what vegetables and fruits colour their cart already has and then suggest fruits and vegetables of colours that are missing from their cart by checking for the best match with the row of data in the redProductName, yellowProductName, whiteProductName, greenProductName, blueProductName fields. Once that is done, suggest the respective recipe under the recipes column.\"\n",
    ")\n",
    "# find out more about question generation from \n",
    "# https://gpt-index.readthedocs.io/en/latest/examples/evaluation/QuestionGeneration.html\n",
    "\n",
    "dataset_generator = DatasetGenerator.from_documents(\n",
    "    docs[:24],\n",
    "    question_gen_query=question_gen_query,\n",
    "    service_context=gpt_context,\n",
    ")"
   ]
  },
  {
   "cell_type": "code",
   "execution_count": 11,
   "id": "31013ddd",
   "metadata": {},
   "outputs": [],
   "source": [
    "import nest_asyncio\n",
    "nest_asyncio.apply()\n",
    "\n",
    "#The code snippet import nest_asyncio; nest_asyncio.apply() is used to enable nested event loops in asyncio, which is the default behavior in Python's asyncio library."
   ]
  },
  {
   "cell_type": "code",
   "execution_count": 12,
   "id": "56238a0e",
   "metadata": {},
   "outputs": [
    {
     "name": "stdout",
     "output_type": "stream",
     "text": [
      "Generated  25  questions\n"
     ]
    }
   ],
   "source": [
    "questions = dataset_generator.generate_questions_from_nodes(num=25)   \n",
    "print(\"Generated \", len(questions), \" questions\")\n",
    "#generates a list of questions based on the documents. 25 questions generated"
   ]
  },
  {
   "cell_type": "code",
   "execution_count": 13,
   "id": "addee976",
   "metadata": {},
   "outputs": [
    {
     "name": "stdout",
     "output_type": "stream",
     "text": [
      "How can the placement of my stove impact the Feng Shui of my kitchen and overall living space?\n",
      "What are the recommended directions for placing an aquarium in order to enhance positive energy flow in my home?\n",
      "How does the quality of object placement affect the Feng Shui of a room or space?\n",
      "Can you provide guidance on the optimal direction to place my bed for better Feng Shui in my bedroom?\n",
      "What are some common mistakes to avoid when it comes to the placement of objects in accordance with Feng Shui principles?\n",
      "How can conflicting elements like fire, water, and earth impact the Feng Shui of a space, particularly when it comes to placing an aquarium?\n",
      "Are there specific areas in my home where I should avoid placing certain objects, such as an aquarium, to maintain good Feng Shui?\n",
      "How does the scale of an object impact its placement in relation to Feng Shui principles?\n",
      "Can you explain the significance of the North-West direction in Feng Shui and how it can influence the energy flow in a living space?\n",
      "What additional tips should I keep in mind when redesigning my living space to ensure that it aligns with the principles of Feng Shui for optimal balance and harmony?\n",
      "How does the direction in which my stove is placed impact the Feng Shui of my kitchen and overall living space?\n",
      "What are the recommended guidelines for positioning an aquarium in a way that enhances the energy flow and promotes prosperity in my home?\n",
      "Can you explain the significance of placing the bed headroom facing South-West and how it affects the energy flow in the bedroom?\n",
      "What are the potential consequences of having a bed headroom with bad placement in terms of Feng Shui principles?\n",
      "How can I ensure that there is a solid wall behind my headboard to support the bed and maintain stable energy flow around it?\n",
      "What does it mean to have a commanding position for the bed in Feng Shui, and how can I achieve this in my bedroom layout?\n",
      "How does the visibility of the bedroom door from the bed impact the sense of security and overall energy flow in the room according to Feng Shui principles?\n",
      "Are there any specific recommendations for the placement of other objects in my living space, such as mirrors or plants, to enhance the Feng Shui and promote positive energy flow?\n",
      "How can I incorporate Feng Shui principles into the overall design and layout of my living space to create a harmonious and balanced environment?\n",
      "What are some common mistakes to avoid when applying Feng Shui principles to the redesign of my living space, and how can I ensure that I am following the guidelines correctly for optimal results?\n",
      "How can the placement of my stove impact the Feng Shui of my kitchen and overall living space?\n",
      "What are the recommended directions for placing an aquarium to enhance the flow of positive energy in my home?\n",
      "How does the direction in which my bed is positioned affect my sleep quality and overall well-being according to Feng Shui principles?\n",
      "Can you provide guidance on the optimal placement of a safe box to attract wealth and prosperity into my home?\n",
      "What Feng Shui wealth items should I consider incorporating into my safe box to enhance its energy and attract abundance?\n"
     ]
    }
   ],
   "source": [
    "with open(\"train_questions.txt\", \"w\") as f:\n",
    "    for question in questions:\n",
    "        f.write(question + \"\\n\")\n",
    "        print(question)\n",
    "        \n",
    "# writes a list of questions to a file named train_questions.txt and prints each question to the console."
   ]
  },
  {
   "cell_type": "markdown",
   "id": "9b3e3bc5",
   "metadata": {},
   "source": [
    "How can the placement of my stove impact the Feng Shui of my kitchen and overall living space?\n",
    "What are the recommended directions for placing an aquarium in order to enhance positive energy flow in my home?\n",
    "How does the quality of object placement affect the Feng Shui of a room or space?\n",
    "Can you provide guidance on the optimal direction to place my bed for better Feng Shui in my bedroom?\n",
    "What are some common mistakes to avoid when it comes to the placement of objects in accordance with Feng Shui principles?\n",
    "How can conflicting elements like fire, water, and earth impact the Feng Shui of a space, particularly when it comes to placing an aquarium?\n",
    "Are there specific areas in my home where I should avoid placing certain objects, such as an aquarium, to maintain good Feng Shui?\n",
    "How does the scale of an object impact its placement in relation to Feng Shui principles?\n",
    "Can you explain the significance of the North-West direction in Feng Shui and how it can influence the energy flow in a living space?\n",
    "What additional tips should I keep in mind when redesigning my living space to ensure that it aligns with the principles of Feng Shui for optimal balance and harmony?\n",
    "How does the direction in which my stove is placed impact the Feng Shui of my kitchen and overall living space?\n",
    "What are the recommended guidelines for positioning an aquarium in a way that enhances the energy flow and promotes prosperity in my home?\n",
    "Can you explain the significance of placing the bed headroom facing South-West and how it affects the energy flow in the bedroom?\n",
    "What are the potential consequences of having a bed headroom with bad placement in terms of Feng Shui principles?\n",
    "How can I ensure that there is a solid wall behind my headboard to support the bed and maintain stable energy flow around it?\n",
    "What does it mean to have a commanding position for the bed in Feng Shui, and how can I achieve this in my bedroom layout?\n",
    "How does the visibility of the bedroom door from the bed impact the sense of security and overall energy flow in the room according to Feng Shui principles?\n",
    "Are there any specific recommendations for the placement of other objects in my living space, such as mirrors or plants, to enhance the Feng Shui and promote positive energy flow?\n",
    "How can I incorporate Feng Shui principles into the overall design and layout of my living space to create a harmonious and balanced environment?\n",
    "What are some common mistakes to avoid when applying Feng Shui principles to the redesign of my living space, and how can I ensure that I am following the guidelines correctly for optimal results?\n",
    "How can the placement of my stove impact the Feng Shui of my kitchen and overall living space?\n",
    "What are the recommended directions for placing an aquarium to enhance the flow of positive energy in my home?\n",
    "How does the direction in which my bed is positioned affect my sleep quality and overall well-being according to Feng Shui principles?\n",
    "Can you provide guidance on the optimal placement of a safe box to attract wealth and prosperity into my home?\n",
    "What Feng Shui wealth items should I consider incorporating into my safe box to enhance its energy and attract abundance?"
   ]
  },
  {
   "cell_type": "code",
   "execution_count": 14,
   "id": "074d54a6",
   "metadata": {},
   "outputs": [],
   "source": [
    "input_file_path = 'train_questions.txt'\n",
    "output_file_path = 'modified_train_questions.txt'\n",
    "\n",
    "def postprocess(input_file_path, output_file_path):\n",
    "    with open(input_file_path, 'r') as file:\n",
    "        modified_lines = [line.replace(\"Question:\", \"\").strip() for line in file]\n",
    "\n",
    "    with open(output_file_path, 'w') as new_file:\n",
    "        for line in modified_lines:\n",
    "            new_file.write(line + '\\n')\n",
    "            \n",
    "#modifies the content by removing a specific string (\"Question:\") from each line, and writes the modified lines to a new output file "
   ]
  },
  {
   "cell_type": "markdown",
   "id": "a366a4bd",
   "metadata": {},
   "source": [
    "## Eval Generation"
   ]
  },
  {
   "cell_type": "code",
   "execution_count": 15,
   "id": "3b0e58bd",
   "metadata": {},
   "outputs": [],
   "source": [
    "dataset_generator = DatasetGenerator.from_documents(\n",
    "    docs[\n",
    "        25:49\n",
    "    ],\n",
    "    question_gen_query=question_gen_query,\n",
    "    service_context=gpt_context,\n",
    ")\n",
    "\n",
    "# generate datasets (potentially question-answer pairs) from a specified subset of documents. The subset is defined by slicing the docs list from index 30 to 54 (Python slicing is exclusive of the end index)."
   ]
  },
  {
   "cell_type": "code",
   "execution_count": 16,
   "id": "f50d7307",
   "metadata": {},
   "outputs": [
    {
     "name": "stdout",
     "output_type": "stream",
     "text": [
      "Generated  25  questions\n"
     ]
    }
   ],
   "source": [
    "questions = dataset_generator.generate_questions_from_nodes(num=25)\n",
    "print(\"Generated \", len(questions), \" questions\")\n",
    "#generates a list of questions based on the documents. 25 question generated"
   ]
  },
  {
   "cell_type": "code",
   "execution_count": 17,
   "id": "c62a9eb3",
   "metadata": {},
   "outputs": [],
   "source": [
    "with open(\"eval_questions.txt\", \"w\") as f:\n",
    "    for question in questions:\n",
    "        f.write(question + \"\\n\")\n",
    "#writes a list of questions to a file named eval_questions.txt"
   ]
  },
  {
   "cell_type": "code",
   "execution_count": 18,
   "id": "523efe14",
   "metadata": {},
   "outputs": [],
   "source": [
    "input_file_path = 'eval_questions.txt'\n",
    "output_file_path = 'modified_eval_questions.txt'\n",
    "\n",
    "postprocess(input_file_path, output_file_path)\n",
    "\n",
    "#modify the content of a file named eval_questions.txt and write the modified content to a new file named modified_eval_questions.txt. "
   ]
  },
  {
   "cell_type": "code",
   "execution_count": 19,
   "id": "adc254d3",
   "metadata": {},
   "outputs": [
    {
     "name": "stdout",
     "output_type": "stream",
     "text": [
      "Total number of documents: 52\n"
     ]
    }
   ],
   "source": [
    "print(\"Total number of documents:\", len(docs))\n",
    "#prints the total number of documents in the docs list."
   ]
  },
  {
   "cell_type": "markdown",
   "id": "0324ad69",
   "metadata": {},
   "source": [
    "## Initial Evaluation\n",
    "\n",
    "For this evaluation with GPT-4 Query Engine, we will be using the [`ragas` evaluation library](https://github.com/explodinggradients/ragas).\n",
    "\n",
    "For this notebook, we will be using the following two metrics:\n",
    "\n",
    "- `answer_relevancy` - This measures how relevant is the generated answer to the prompt. If the generated answer is incomplete or contains redundant information the score will be low. This is quantified by working out the chance of an LLM generating the given question using the generated answer. Values range (0,1), higher the better.  \n",
    "- `faithfulness` - This measures the factual consistency of the generated answer against the given context. This is done using a multi step paradigm that includes creation of statements from the generated answer followed by verifying each of these statements against the context. The answer is scaled to (0,1) range. Higher the better."
   ]
  },
  {
   "cell_type": "code",
   "execution_count": 21,
   "id": "849d3471",
   "metadata": {},
   "outputs": [],
   "source": [
    "questions = []\n",
    "with open(\"modified_eval_questions.txt\", \"r\") as f:\n",
    "    for line in f:\n",
    "        questions.append(line.strip())\n",
    "#reads questions from a file named modified_eval_questions.txt and stores them in a list named questions."
   ]
  },
  {
   "cell_type": "code",
   "execution_count": 22,
   "id": "78c5f581",
   "metadata": {},
   "outputs": [],
   "source": [
    "from llama_index import VectorStoreIndex\n",
    "\n",
    "# limit the context window to 2048 tokens so that refine is used\n",
    "gpt_context = ServiceContext.from_defaults(\n",
    "    llm=OpenAI(model=\"gpt-4\", temperature=0), context_window=2048\n",
    ")\n",
    "\n",
    "index = VectorStoreIndex.from_documents(docs, service_context=gpt_context)\n",
    "\n",
    "query_engine = index.as_query_engine(similarity_top_k=2)\n",
    "\n",
    "#GPT-4 model to understand the semantic content of documents and then uses this understanding to find documents that are semantically similar to a given query. "
   ]
  },
  {
   "cell_type": "code",
   "execution_count": 23,
   "id": "7e119ba0",
   "metadata": {},
   "outputs": [],
   "source": [
    "contexts = []\n",
    "answers = []\n",
    "\n",
    "\n",
    "for question in questions:\n",
    "    response = query_engine.query(question)\n",
    "    contexts.append([x.node.get_content() for x in response.source_nodes])\n",
    "    answers.append(str(response))\n",
    "\n",
    "#store the contexts and answers of the responses"
   ]
  },
  {
   "cell_type": "code",
   "execution_count": 250,
   "id": "3e5caabc",
   "metadata": {
    "scrolled": true
   },
   "outputs": [
    {
     "data": {
      "text/plain": [
       "['How can the placement of objects like a stove, aquarium, and bed impact the energy flow in my living space according to Feng Shui principles?',\n",
       " 'What are the recommended directions for placing a stove, aquarium, and bed to promote positive energy and well-being in my home?',\n",
       " 'How does the direction in which objects are placed affect the Feng Shui of a space, and what specific benefits can be achieved by following these guidelines?',\n",
       " 'Can you provide examples of how improper placement of objects can create negative energy in a living space, and how adjusting their direction can improve the overall Feng Shui?',\n",
       " 'What are some key considerations to keep in mind when selecting and positioning plants in my home to enhance the positive energy flow according to Feng Shui principles?',\n",
       " 'How can I ensure that the plants I choose for my living space are healthy and thriving, and what impact does the health of plants have on the energy within a home?',\n",
       " 'In what ways can the placement of plants facing specific directions, such as South-East or East, contribute to a harmonious and balanced environment in my living space according to Feng Shui principles?',\n",
       " 'Are there any specific plant varieties that are recommended for certain areas of my home to maintain a positive energy flow and promote well-being, prosperity, and balance?',\n",
       " 'How can I incorporate the principles of Feng Shui into my redesign process to create a space that aligns with the optimal balance and harmony for positive energy flow?',\n",
       " 'What additional tips or recommendations can you provide for ensuring that every aspect of my living space contributes to a harmonious and balanced environment based on Feng Shui principles?',\n",
       " 'How can the placement of crystals in my home impact the energy flow and overall Feng Shui of my living space?',\n",
       " 'What specific crystals are recommended for creating a protective shield and warding off negative energy in a crystal grid setup?',\n",
       " 'Can you explain the significance of positioning the crystals facing South-East for optimal Feng Shui benefits?',\n",
       " 'How does the placement of a master crystal at the top of a crystal grid contribute to enhancing protection and positive energy in the home?',\n",
       " 'What are the key principles of Feng Shui that should be considered when redesigning a living space to promote harmony and balance?',\n",
       " 'How can the direction in which objects like a stove, aquarium, and bed are placed impact the overall Feng Shui of a home?',\n",
       " 'Are there specific guidelines or recommendations for positioning objects in a living space to attract prosperity and well-being according to Feng Shui principles?',\n",
       " 'How can visualizing the crystals being energetically connected and creating a protective shield around the home enhance the positive energy flow in the living space?',\n",
       " 'What are some common mistakes to avoid when incorporating Feng Shui principles into the redesign of a living space?',\n",
       " 'Can you provide examples of how implementing Feng Shui recommendations, such as crystal grids and object placement, has positively impacted the energy and atmosphere of a home?',\n",
       " 'How can the placement of objects like a stove, aquarium, and bed impact the energy flow in my living space according to Feng Shui principles?',\n",
       " 'What are the recommended directions for placing these objects to promote positive energy, prosperity, and well-being in my home?',\n",
       " 'How can I ensure that the plants I choose for my living space are healthy and thriving to maintain a positive energy flow?',\n",
       " 'What specific plant varieties should I consider for different areas of my home to enhance the Feng Shui principles?',\n",
       " 'How can I determine if a plant is well-suited for a particular area in my home based on Feng Shui principles?']"
      ]
     },
     "execution_count": 250,
     "metadata": {},
     "output_type": "execute_result"
    }
   ],
   "source": [
    "questions[:25]"
   ]
  },
  {
   "cell_type": "code",
   "execution_count": 251,
   "id": "d27a0ad1",
   "metadata": {
    "scrolled": true
   },
   "outputs": [
    {
     "data": {
      "application/vnd.jupyter.widget-view+json": {
       "model_id": "b36c94e731b84c039deb4b20d6bd00cd",
       "version_major": 2,
       "version_minor": 0
      },
      "text/plain": [
       "Evaluating:   0%|          | 0/50 [00:00<?, ?it/s]"
      ]
     },
     "metadata": {},
     "output_type": "display_data"
    },
    {
     "name": "stdout",
     "output_type": "stream",
     "text": [
      "{'answer_relevancy': 0.8894, 'faithfulness': 0.9822}\n"
     ]
    }
   ],
   "source": [
    "from datasets import Dataset\n",
    "from ragas import evaluate\n",
    "from ragas.metrics import answer_relevancy, faithfulness\n",
    "\n",
    "ds = Dataset.from_dict(\n",
    "    {\n",
    "        \"question\": questions,\n",
    "        \"answer\": answers,\n",
    "        \"contexts\": contexts,\n",
    "    }\n",
    ")\n",
    "\n",
    "\n",
    "result = evaluate(ds,[answer_relevancy, faithfulness])\n",
    "print(result)\n",
    "\n",
    "# Evaluate the answer_relevancy & faithfulness using ragas. Ragas score  = (answer_relevancy + faithfulness) / 2"
   ]
  },
  {
   "cell_type": "markdown",
   "id": "45e623e8",
   "metadata": {},
   "source": [
    "{'ragas_score': 0.9358, 'answer_relevancy': 0.8894, 'faithfulness': 0.9822}"
   ]
  },
  {
   "cell_type": "markdown",
   "id": "3da0673e",
   "metadata": {},
   "source": [
    "## 2nd Evaluation\n",
    "\n",
    "For this evaluation with GPT-4-1106-preview Query Engine, we will be using the [`ragas` evaluation library](https://github.com/explodinggradients/ragas).\n",
    "\n",
    "For this notebook, we will be using the following two metrics:\n",
    "\n",
    "- `answer_relevancy` - This measures how relevant is the generated answer to the prompt. If the generated answer is incomplete or contains redundant information the score will be low. This is quantified by working out the chance of an LLM generating the given question using the generated answer. Values range (0,1), higher the better.  \n",
    "- `faithfulness` - This measures the factual consistency of the generated answer against the given context. This is done using a multi step paradigm that includes creation of statements from the generated answer followed by verifying each of these statements against the context. The answer is scaled to (0,1) range. Higher the better."
   ]
  },
  {
   "cell_type": "code",
   "execution_count": 257,
   "id": "0bbe7974",
   "metadata": {},
   "outputs": [],
   "source": [
    "questions = []\n",
    "with open(\"modified_eval_questions.txt\", \"r\") as f:\n",
    "    for line in f:\n",
    "        questions.append(line.strip())\n",
    "#reads questions from a file named modified_eval_questions.txt and stores them in a list named questions"
   ]
  },
  {
   "cell_type": "code",
   "execution_count": 258,
   "id": "2f829afa",
   "metadata": {},
   "outputs": [],
   "source": [
    "from llama_index import VectorStoreIndex\n",
    "\n",
    "# limit the context window to 2048 tokens so that refine is used\n",
    "gpt_context = ServiceContext.from_defaults(\n",
    "    llm=OpenAI(model=\"gpt-4-1106-preview\", temperature=0), context_window=2048\n",
    ")\n",
    "\n",
    "index = VectorStoreIndex.from_documents(docs, service_context=gpt_context)\n",
    "\n",
    "query_engine = index.as_query_engine(similarity_top_k=2)\n",
    "#querying documents based on their semantic similarity to a given query."
   ]
  },
  {
   "cell_type": "code",
   "execution_count": null,
   "id": "59847aa6",
   "metadata": {},
   "outputs": [],
   "source": [
    "contexts = []\n",
    "answers = []\n",
    "\n",
    "\n",
    "for question in questions:\n",
    "    response = query_engine.query(question)\n",
    "    contexts.append([x.node.get_content() for x in response.source_nodes])\n",
    "    answers.append(str(response))\n",
    "    \n",
    "#store the contexts and answers of the responses."
   ]
  },
  {
   "cell_type": "code",
   "execution_count": 260,
   "id": "08a447b4",
   "metadata": {
    "scrolled": true
   },
   "outputs": [
    {
     "data": {
      "text/plain": [
       "['How can the placement of objects like a stove, aquarium, and bed impact the energy flow in my living space according to Feng Shui principles?',\n",
       " 'What are the recommended directions for placing a stove, aquarium, and bed to promote positive energy and well-being in my home?',\n",
       " 'How does the direction in which objects are placed affect the Feng Shui of a space, and what specific benefits can be achieved by following these guidelines?',\n",
       " 'Can you provide examples of how improper placement of objects can create negative energy in a living space, and how adjusting their direction can improve the overall Feng Shui?',\n",
       " 'What are some key considerations to keep in mind when selecting and positioning plants in my home to enhance the positive energy flow according to Feng Shui principles?',\n",
       " 'How can I ensure that the plants I choose for my living space are healthy and thriving, and what impact does the health of plants have on the energy within a home?',\n",
       " 'In what ways can the placement of plants facing specific directions, such as South-East or East, contribute to a harmonious and balanced environment in my living space according to Feng Shui principles?',\n",
       " 'Are there any specific plant varieties that are recommended for certain areas of my home to maintain a positive energy flow and promote well-being, prosperity, and balance?',\n",
       " 'How can I incorporate the principles of Feng Shui into my redesign process to create a space that aligns with the optimal balance and harmony for positive energy flow?',\n",
       " 'What additional tips or recommendations can you provide for ensuring that every aspect of my living space contributes to a harmonious and balanced environment based on Feng Shui principles?',\n",
       " 'How can the placement of crystals in my home impact the energy flow and overall Feng Shui of my living space?',\n",
       " 'What specific crystals are recommended for creating a protective shield and warding off negative energy in a crystal grid setup?',\n",
       " 'Can you explain the significance of positioning the crystals facing South-East for optimal Feng Shui benefits?',\n",
       " 'How does the placement of a master crystal at the top of a crystal grid contribute to enhancing protection and positive energy in the home?',\n",
       " 'What are the key principles of Feng Shui that should be considered when redesigning a living space to promote harmony and balance?',\n",
       " 'How can the direction in which objects like a stove, aquarium, and bed are placed impact the overall Feng Shui of a home?',\n",
       " 'Are there specific guidelines or recommendations for positioning objects in a living space to attract prosperity and well-being according to Feng Shui principles?',\n",
       " 'How can visualizing the crystals being energetically connected and creating a protective shield around the home enhance the positive energy flow in the living space?',\n",
       " 'What are some common mistakes to avoid when incorporating Feng Shui principles into the redesign of a living space?',\n",
       " 'Can you provide examples of how implementing Feng Shui recommendations, such as crystal grids and object placement, has positively impacted the energy and atmosphere of a home?',\n",
       " 'How can the placement of objects like a stove, aquarium, and bed impact the energy flow in my living space according to Feng Shui principles?',\n",
       " 'What are the recommended directions for placing these objects to promote positive energy, prosperity, and well-being in my home?',\n",
       " 'How can I ensure that the plants I choose for my living space are healthy and thriving to maintain a positive energy flow?',\n",
       " 'What specific plant varieties should I consider for different areas of my home to enhance the Feng Shui principles?',\n",
       " 'How can I determine if a plant is well-suited for a particular area in my home based on Feng Shui principles?']"
      ]
     },
     "execution_count": 260,
     "metadata": {},
     "output_type": "execute_result"
    }
   ],
   "source": [
    "questions[:25]\n",
    "#create a new list containing the first 25 elements from the questions list."
   ]
  },
  {
   "cell_type": "code",
   "execution_count": 261,
   "id": "87a1da9d",
   "metadata": {},
   "outputs": [
    {
     "data": {
      "application/vnd.jupyter.widget-view+json": {
       "model_id": "23b53e15ce3542f886cc87db70613501",
       "version_major": 2,
       "version_minor": 0
      },
      "text/plain": [
       "Evaluating:   0%|          | 0/50 [00:00<?, ?it/s]"
      ]
     },
     "metadata": {},
     "output_type": "display_data"
    },
    {
     "name": "stdout",
     "output_type": "stream",
     "text": [
      "{'answer_relevancy': 0.9329, 'faithfulness': 0.9822}\n"
     ]
    }
   ],
   "source": [
    "from datasets import Dataset\n",
    "from ragas import evaluate\n",
    "from ragas.metrics import answer_relevancy, faithfulness\n",
    "\n",
    "ds = Dataset.from_dict(\n",
    "    {\n",
    "        \"question\": questions,\n",
    "        \"answer\": answers,\n",
    "        \"contexts\": contexts,\n",
    "    }\n",
    ")\n",
    "\n",
    "\n",
    "result = evaluate(ds,[answer_relevancy, faithfulness])\n",
    "print(result)\n",
    "\n",
    "#evaluate result on answer_relevancy & faithfulness using ragas. Ragas score  = (answer_relevancy + faithfulness) / 2\n"
   ]
  },
  {
   "cell_type": "markdown",
   "id": "3342d94c",
   "metadata": {},
   "source": [
    "{'ragas_score': 0.9575, 'answer_relevancy': 0.9329, 'faithfulness': 0.9822}"
   ]
  },
  {
   "cell_type": "markdown",
   "id": "415f4a75",
   "metadata": {},
   "source": [
    "| Model                | Ragas Score | Answer Relevancy   | Faithfulness   |\n",
    "|:----------------:    |:-----------:|:------------------:|:--------------:|\n",
    "| GPT-4                | 0.9358      | 0.8894             | 0.9822         |\n",
    "| GPT-4.0-1106-preview | 0.9575      | 0.9266             | 0.9840         |\n",
    "{'ragas_score': 0.9358, 'answer_relevancy': 0.8894, 'faithfulness': 0.9822}\n",
    "{'ragas_score': 0.9575, 'answer_relevancy': 0.9329, 'faithfulness': 0.9822}\n",
    "\n",
    "Date : 27 April 2024"
   ]
  },
  {
   "cell_type": "markdown",
   "id": "b9b789ce",
   "metadata": {},
   "source": [
    "## Exploring Differences Between The 2 Different Models\n",
    "\n",
    "Let's quickly compare the differences in responses, to demonstrate that fine tuning did indeed change something."
   ]
  },
  {
   "cell_type": "code",
   "execution_count": 35,
   "id": "72a4e584",
   "metadata": {},
   "outputs": [],
   "source": [
    "index = VectorStoreIndex.from_documents(docs)\n",
    "#create an index from a collection of documents "
   ]
  },
  {
   "cell_type": "code",
   "execution_count": 36,
   "id": "4ce5b342",
   "metadata": {},
   "outputs": [],
   "source": [
    "questions = []\n",
    "with open(\"modified_eval_questions.txt\", \"r\") as f:\n",
    "    for line in f:\n",
    "        questions.append(line.strip())\n",
    "#reads questions from a file named modified_eval_questions.txt and stores them in a list named questions"
   ]
  },
  {
   "cell_type": "code",
   "execution_count": 37,
   "id": "00a403a9",
   "metadata": {},
   "outputs": [
    {
     "name": "stdout",
     "output_type": "stream",
     "text": [
      "What are the recommended directions for placing a stove, aquarium, and bed to promote positive energy and well-being in my home?\n"
     ]
    }
   ],
   "source": [
    "print(questions[1])  \n",
    "#access the second index/element in the questions"
   ]
  },
  {
   "cell_type": "markdown",
   "id": "f898ea25",
   "metadata": {},
   "source": [
    "What are the recommended directions for placing a stove, aquarium, and bed to promote positive energy and well-being in my home?\n"
   ]
  },
  {
   "cell_type": "markdown",
   "id": "0782afdb",
   "metadata": {},
   "source": [
    "## GPT-4"
   ]
  },
  {
   "cell_type": "code",
   "execution_count": 54,
   "id": "daebb298",
   "metadata": {},
   "outputs": [],
   "source": [
    "from llama_index.response.notebook_utils import display_response\n",
    "\n",
    "gpt_35_context = ServiceContext.from_defaults(\n",
    "    llm=OpenAI(model=\"gpt-4\", temperature=0),\n",
    "    context_window=2048,  # limit the context window artifically to test refine process\n",
    ")\n",
    "\n",
    "#preparing the environment for querying or indexing documents using the LlamaIndex library. "
   ]
  },
  {
   "cell_type": "code",
   "execution_count": 55,
   "id": "f92a9de5",
   "metadata": {},
   "outputs": [
    {
     "data": {
      "text/markdown": [
       "**`Final Response:`** The context only provides information about the placement of an aquarium. It is recommended to place an aquarium in the North-West or South-East direction of your home. However, you should avoid placing it in the kitchen, bedroom, bathroom, or the center of the home due to the conflicting elements of fire, water, and earth. Unfortunately, the context does not provide information about the recommended directions for a stove or a bed."
      ],
      "text/plain": [
       "<IPython.core.display.Markdown object>"
      ]
     },
     "metadata": {},
     "output_type": "display_data"
    }
   ],
   "source": [
    "query_engine = index.as_query_engine(service_context=gpt_35_context)\n",
    "\n",
    "response = query_engine.query(questions[1])\n",
    "\n",
    "display_response(response)\n",
    "#query an index with a specific service context and display the response"
   ]
  },
  {
   "cell_type": "markdown",
   "id": "357e30b2",
   "metadata": {},
   "source": [
    "Final Response: The context only provides information about the placement of an aquarium. It is recommended to place an aquarium in the North-West or South-East direction of your home. However, you should avoid placing it in the kitchen, bedroom, bathroom, or the center of the home due to the conflicting elements of fire, water, and earth. Unfortunately, the context does not provide information about the recommended directions for a stove or a bed.\n",
    "\n"
   ]
  },
  {
   "cell_type": "markdown",
   "id": "b570b142",
   "metadata": {},
   "source": [
    "## GPT-4.0-1106-preview"
   ]
  },
  {
   "cell_type": "code",
   "execution_count": 58,
   "id": "81a8623d",
   "metadata": {},
   "outputs": [],
   "source": [
    "ft_context = ServiceContext.from_defaults(\n",
    "    #llm=ft_llm,\n",
    "    llm=OpenAI(model=\"gpt-4-1106-preview\",temperature=0),\n",
    "    context_window=2048,  # limit the context window artifically to test refine process\n",
    ")\n",
    "#environment for querying or indexing documents using the LlamaIndex library"
   ]
  },
  {
   "cell_type": "code",
   "execution_count": 59,
   "id": "f54980ce",
   "metadata": {},
   "outputs": [
    {
     "data": {
      "text/markdown": [
       "**`Final Response:`** The recommended directions for placing an aquarium to promote positive energy and well-being in your home are North-West and South-East. It is important to note that you should avoid placing an aquarium in the kitchen, bedroom, bathroom, or the center of the home, as these locations are considered inauspicious due to the conflicting elements of fire, water, and earth. \n",
       "\n",
       "However, the context information provided does not include the recommended directions for placing a stove or a bed. To ensure positive energy and well-being for these objects, you may need to consult additional sources or guidelines that specifically address the placement of stoves and beds within the principles of feng shui or similar systems of spatial arrangement."
      ],
      "text/plain": [
       "<IPython.core.display.Markdown object>"
      ]
     },
     "metadata": {},
     "output_type": "display_data"
    }
   ],
   "source": [
    "query_engine = index.as_query_engine(service_context=ft_context)\n",
    "\n",
    "response = query_engine.query(questions[1])\n",
    "\n",
    "display_response(response)\n",
    "#query an index with a specific service context and display the response"
   ]
  },
  {
   "cell_type": "markdown",
   "id": "0ff8774a",
   "metadata": {},
   "source": [
    "Final Response: The recommended directions for placing an aquarium to promote positive energy and well-being in your home are North-West and South-East. It is important to note that you should avoid placing an aquarium in the kitchen, bedroom, bathroom, or the center of the home, as these locations are considered inauspicious due to the conflicting elements of fire, water, and earth.\n",
    "\n",
    "However, the context information provided does not include the recommended directions for placing a stove or a bed. To ensure positive energy and well-being for these objects, you may need to consult additional sources or guidelines that specifically address the placement of stoves and beds within the principles of feng shui or similar systems of spatial arrangement."
   ]
  },
  {
   "cell_type": "markdown",
   "id": "ef1bc1c2",
   "metadata": {},
   "source": [
    "## Observation (Between GPT 4  & GPT 4.0-1106-preview)"
   ]
  },
  {
   "cell_type": "markdown",
   "id": "4605c3ec",
   "metadata": {},
   "source": [
    "There is indeed a difference between the two models. The GPT-4.0-1106-preview give a more clear and comprehensive response than the gpt-4 models"
   ]
  },
  {
   "cell_type": "markdown",
   "id": "a8874e33",
   "metadata": {},
   "source": [
    "## Checking whether the GPT-3.5-turbo-1106 (Fine Tune) or GPT-4-1106-preview works better"
   ]
  },
  {
   "cell_type": "markdown",
   "id": "7a66544e",
   "metadata": {},
   "source": [
    "## Generate Training Data\n",
    "\n",
    "Here, we use GPT-3.5-turbo and the `OpenAIFineTuningHandler` to collect data that we want to train on."
   ]
  },
  {
   "cell_type": "code",
   "execution_count": 7,
   "id": "86d9b50f",
   "metadata": {},
   "outputs": [],
   "source": [
    "from llama_index import ServiceContext\n",
    "from llama_index.llms import OpenAI\n",
    "from llama_index.callbacks import OpenAIFineTuningHandler\n",
    "from llama_index.callbacks import CallbackManager\n",
    "\n",
    "finetuning_handler = OpenAIFineTuningHandler()\n",
    "callback_manager = CallbackManager([finetuning_handler])\n",
    "\n",
    "gpt_4_context = ServiceContext.from_defaults(\n",
    "    llm=OpenAI(model=\"gpt-3.5-turbo\", temperature=0),\n",
    "    context_window=2048,  # limit the context window artifically to test refine process\n",
    "    callback_manager=callback_manager,\n",
    ")\n",
    "#GPT-3.5-turbo model to understand the semantic content of documents and then uses this understanding to find documents that are semantically similar to a given query"
   ]
  },
  {
   "cell_type": "code",
   "execution_count": 8,
   "id": "6e69c838",
   "metadata": {},
   "outputs": [],
   "source": [
    "questions = []\n",
    "with open(\"modified_train_questions.txt\", \"r\") as f:\n",
    "    for line in f:\n",
    "        questions.append(line.strip())\n",
    "#reads questions from a file named modified_train_questions.txt and stores them in a list named questions."
   ]
  },
  {
   "cell_type": "code",
   "execution_count": 9,
   "id": "db75f40b",
   "metadata": {},
   "outputs": [],
   "source": [
    "from llama_index import VectorStoreIndex\n",
    "\n",
    "index = VectorStoreIndex.from_documents(docs, service_context=gpt_4_context)\n",
    "\n",
    "query_engine = index.as_query_engine(similarity_top_k=2)\n",
    "#create a VectorStoreIndex from a collection of documents (docs) using the LlamaIndex library, and then convert this index into a query engine "
   ]
  },
  {
   "cell_type": "code",
   "execution_count": 10,
   "id": "39ee8890",
   "metadata": {},
   "outputs": [],
   "source": [
    "for question in questions:\n",
    "    response = query_engine.query(question)\n",
    "\n",
    "# loop that iterates over a list of questions, querying a query_engine for each question and storing the response in a variable named respons"
   ]
  },
  {
   "cell_type": "markdown",
   "id": "24b1c6ac",
   "metadata": {},
   "source": [
    "## Create Fine Tuned Engine\n",
    "\n"
   ]
  },
  {
   "cell_type": "code",
   "execution_count": 11,
   "id": "270f5516",
   "metadata": {},
   "outputs": [
    {
     "name": "stdout",
     "output_type": "stream",
     "text": [
      "Wrote 25 examples to finetune.jsonl\n"
     ]
    }
   ],
   "source": [
    "finetuning_handler.save_finetuning_events(\"finetune.jsonl\")\n",
    "#save fine-tuning events to a JSONL file called finetune."
   ]
  },
  {
   "cell_type": "markdown",
   "id": "2c804716",
   "metadata": {},
   "source": [
    "## Evaluating Fine Tuned Engine\n",
    "\n",
    "After some time, your model will be done training!\n",
    "\n",
    "The next step is running our fine-tuned model on our eval dataset again to measure any performance increase."
   ]
  },
  {
   "cell_type": "code",
   "execution_count": 12,
   "id": "1094c5a1",
   "metadata": {},
   "outputs": [],
   "source": [
    "questions = []\n",
    "with open(\"eval_questions.txt\", \"r\") as f:\n",
    "    for line in f:\n",
    "        questions.append(line.strip())\n",
    "#reads a text file named eval_questions.txt line by line, strips any leading or trailing whitespace (including newlines) from each line, and appends each line to a list named questions"
   ]
  },
  {
   "cell_type": "code",
   "execution_count": 13,
   "id": "02bd2650",
   "metadata": {},
   "outputs": [],
   "source": [
    "from llama_index import VectorStoreIndex\n",
    "\n",
    "ft_context = ServiceContext.from_defaults(\n",
    "    llm=OpenAI(model=\"ft:gpt-3.5-turbo-1106:personal:fengshui:9IzbaIn8\",temperature=0), context_window=2048\n",
    ")\n",
    "index = VectorStoreIndex.from_documents(docs, service_context=ft_context)\n",
    "\n",
    "query_engine = index.as_query_engine(similarity_top_k=2)\n",
    "\n",
    "#query engine using the VectorStoreIndex from the llama_index library, specifically tailored for fine-tuning a language model (LLM) like GPT-3.5 Turbo. "
   ]
  },
  {
   "cell_type": "code",
   "execution_count": 14,
   "id": "376fa2c5",
   "metadata": {},
   "outputs": [],
   "source": [
    "contexts = []\n",
    "answers = []\n",
    "\n",
    "for question in questions:\n",
    "    response = query_engine.query(question)\n",
    "    contexts.append([x.node.get_content() for x in response.source_nodes])\n",
    "    answers.append(str(response))\n",
    "#query engine to process a list of questions and collect both the contexts (source nodes) and answers from the responses."
   ]
  },
  {
   "cell_type": "code",
   "execution_count": 15,
   "id": "c30fdedd",
   "metadata": {},
   "outputs": [
    {
     "data": {
      "application/vnd.jupyter.widget-view+json": {
       "model_id": "9430fcff98954708afa1f537e607dba6",
       "version_major": 2,
       "version_minor": 0
      },
      "text/plain": [
       "Evaluating:   0%|          | 0/50 [00:00<?, ?it/s]"
      ]
     },
     "metadata": {},
     "output_type": "display_data"
    },
    {
     "name": "stdout",
     "output_type": "stream",
     "text": [
      "{'answer_relevancy': 0.9385, 'faithfulness': 0.9767}\n"
     ]
    }
   ],
   "source": [
    "from datasets import Dataset\n",
    "from ragas import evaluate\n",
    "from ragas.metrics import answer_relevancy, faithfulness\n",
    "\n",
    "ds = Dataset.from_dict(\n",
    "    {\n",
    "        \"question\": questions,\n",
    "        \"answer\": answers,\n",
    "        \"contexts\": contexts,\n",
    "    }\n",
    ")\n",
    "\n",
    "result = evaluate(ds, [answer_relevancy, faithfulness])\n",
    "print(result)\n",
    "#evaluate result on answer_relevancy & faithfulness using ragas. Ragas score  = (answer_relevancy + faithfulness) / 2"
   ]
  },
  {
   "cell_type": "markdown",
   "id": "3e6273c0",
   "metadata": {},
   "source": [
    "| Model                            | Ragas Score | Answer Relevancy   | Faithfulness   |\n",
    "|:----------------:                |:-----------:|:------------------:|:--------------:|\n",
    "| GPT-4                            | 0.9358      | 0.8894             | 0.9822         |\n",
    "| GPT-4.0-1106-preview             | 0.9575      | 0.9266             | 0.9840         |\n",
    "| GPT-3.5-Turbo-1106 (Fine Tune)   | 0.9576      | 0.9385             | 0.9767         |\n",
    "{'ragas_score': 0.9358, 'answer_relevancy': 0.8894, 'faithfulness': 0.9822}\n",
    "{'ragas_score': 0.9575, 'answer_relevancy': 0.9329, 'faithfulness': 0.9822}\n",
    "{'ragas_score': 0.9576, 'answer_relevancy': 0.9385, 'faithfulness': 0.9767}\n",
    "\n",
    "Date: 28 April 2024"
   ]
  },
  {
   "cell_type": "markdown",
   "id": "313508eb",
   "metadata": {},
   "source": [
    "## Observation between GPT-4-1106-preview vs GPT-3.5-turbo-1106 (Fine Tune) "
   ]
  },
  {
   "cell_type": "code",
   "execution_count": 37,
   "id": "c852bd62",
   "metadata": {},
   "outputs": [
    {
     "name": "stdout",
     "output_type": "stream",
     "text": [
      "What are the recommended directions for placing a stove, aquarium, and bed to promote positive energy and well-being in my home?\n"
     ]
    }
   ],
   "source": [
    "print(questions[1])  \n",
    "#access the second index/element in the questions"
   ]
  },
  {
   "cell_type": "markdown",
   "id": "3b89bd2b",
   "metadata": {},
   "source": [
    "What are the recommended directions for placing a stove, aquarium, and bed to promote positive energy and well-being in my home?\n"
   ]
  },
  {
   "cell_type": "code",
   "execution_count": 60,
   "id": "eb41672c",
   "metadata": {},
   "outputs": [],
   "source": [
    "ft_context = ServiceContext.from_defaults(\n",
    "    #llm=ft_llm,\n",
    "    llm=OpenAI(model=\"gpt-4-1106-preview\",temperature=0),\n",
    "    context_window=2048,  # limit the context window artifically to test refine process\n",
    ")"
   ]
  },
  {
   "cell_type": "code",
   "execution_count": 61,
   "id": "118d6e0d",
   "metadata": {},
   "outputs": [
    {
     "data": {
      "text/markdown": [
       "**`Final Response:`** The recommended direction for placing an aquarium to promote positive energy and well-being in your home is either the North-West or South-East direction. It is important to note that you should avoid placing an aquarium in the kitchen, bedroom, bathroom, or the center of the home, as these locations are considered inauspicious due to the conflicting elements of fire, water, and earth. The information provided does not include recommended directions for placing a stove or a bed, so I cannot advise on those objects."
      ],
      "text/plain": [
       "<IPython.core.display.Markdown object>"
      ]
     },
     "metadata": {},
     "output_type": "display_data"
    }
   ],
   "source": [
    "query_engine = index.as_query_engine(service_context=ft_context)\n",
    "\n",
    "response = query_engine.query(questions[1])\n",
    "\n",
    "display_response(response)\n",
    "#iterative, allowing for the evaluation of different embeddings and querying strategies."
   ]
  },
  {
   "cell_type": "markdown",
   "id": "a78ac276",
   "metadata": {},
   "source": [
    "Final Response: The recommended direction for placing an aquarium to promote positive energy and well-being in your home is either the North-West or South-East direction. It is important to note that you should avoid placing an aquarium in the kitchen, bedroom, bathroom, or the center of the home, as these locations are considered inauspicious due to the conflicting elements of fire, water, and earth. The information provided does not include recommended directions for placing a stove or a bed, so I cannot advise on those objects."
   ]
  },
  {
   "cell_type": "code",
   "execution_count": 62,
   "id": "6379ada8",
   "metadata": {},
   "outputs": [],
   "source": [
    "ft_context = ServiceContext.from_defaults(\n",
    "    #llm=ft_llm,\n",
    "    llm=OpenAI(model=\"ft:gpt-3.5-turbo-1106:personal:fengshui:9IzbaIn8\",temperature=0),\n",
    "    context_window=2048,  # limit the context window artifically to test refine process\n",
    ")"
   ]
  },
  {
   "cell_type": "code",
   "execution_count": 63,
   "id": "3bebc542",
   "metadata": {},
   "outputs": [
    {
     "data": {
      "text/markdown": [
       "**`Final Response:`** The recommended directions for placing a stove is South-East, for an aquarium is North-West, and for a bed is South-West to promote positive energy and well-being in your home."
      ],
      "text/plain": [
       "<IPython.core.display.Markdown object>"
      ]
     },
     "metadata": {},
     "output_type": "display_data"
    }
   ],
   "source": [
    "query_engine = index.as_query_engine(service_context=ft_context)\n",
    "\n",
    "response = query_engine.query(questions[1])\n",
    "\n",
    "display_response(response)\n",
    "#iterative, allowing for the evaluation of different embeddings and querying strategies."
   ]
  },
  {
   "cell_type": "markdown",
   "id": "b4da92e1",
   "metadata": {},
   "source": [
    "Final Response: The recommended directions for placing a stove is South-East, for an aquarium is North-West, and for a bed is South-West to promote positive energy and well-being in your home."
   ]
  },
  {
   "cell_type": "markdown",
   "id": "8b5bf933",
   "metadata": {},
   "source": [
    "## Conclusion : The GPT-3.5-turbo-1106 fine-tuned model achieved a RAGAS score of 0.9576, slightly surpassing the GPT-4-1106-preview model's score of 0.9575. Despite the GPT-4-1106-preview model providing more detailed responses, it failed to address all queries regarding the three objects in question. Conversely, the GPT-3.5-turbo-1106 model successfully answered all queries, meeting the basic requirements expected of a chatbot. Given its cost-effectiveness, higher RAGAS score, and comprehensive response capabilities, the GPT-3.5-turbo-1106 fine-tuned model has been selected for this capstone project.\n"
   ]
  }
 ],
 "metadata": {
  "kernelspec": {
   "display_name": "Python 3 (ipykernel)",
   "language": "python",
   "name": "python3"
  },
  "language_info": {
   "codemirror_mode": {
    "name": "ipython",
    "version": 3
   },
   "file_extension": ".py",
   "mimetype": "text/x-python",
   "name": "python",
   "nbconvert_exporter": "python",
   "pygments_lexer": "ipython3",
   "version": "3.11.7"
  },
  "vp": {
   "vp_config_version": "1.0.0",
   "vp_menu_width": 273,
   "vp_note_display": false,
   "vp_note_width": 0,
   "vp_position": {
    "width": 278
   },
   "vp_section_display": false,
   "vp_signature": "VisualPython"
  }
 },
 "nbformat": 4,
 "nbformat_minor": 5
}
